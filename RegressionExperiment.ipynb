{
 "cells": [
  {
   "cell_type": "code",
   "execution_count": 315,
   "metadata": {
    "collapsed": true
   },
   "outputs": [],
   "source": [
    "# write your code here\n",
    "import numpy as np\n",
    "import matplotlib.pyplot as plt\n",
    "import math\n",
    "from sklearn.datasets import load_svmlight_file"
   ]
  },
  {
   "cell_type": "code",
   "execution_count": 316,
   "metadata": {
    "collapsed": true
   },
   "outputs": [],
   "source": [
    "def get_data(str):\n",
    "    data = load_svmlight_file(str,123)\n",
    "    return data[0], data[1]\n",
    "\n",
    "#Import data\n",
    "train = 'data\\\\a9a'\n",
    "test = 'data\\\\a9a.t'\n",
    "X_train, y_train = get_data(train)\n",
    "X_test, y_test = get_data(test)"
   ]
  },
  {
   "cell_type": "code",
   "execution_count": 317,
   "metadata": {
    "collapsed": true
   },
   "outputs": [],
   "source": [
    "def selectData(X,Y,size):\n",
    "    data = []\n",
    "    per = np.random.permutation(X.shape[1])\n",
    "    shuffled_X = X[:,per]\n",
    "    shuffled_Y = Y[:,per]\n",
    "    num_frag = math.floor(X.shape[1]/size)\n",
    "    for i in range(num_frag):\n",
    "        data_X = shuffled_X[:,i*size:(i+1)*size]\n",
    "        data_Y = shuffled_Y[:,i*size:(i+1)*size]\n",
    "        a = (data_X, data_Y)\n",
    "        data.append(a)\n",
    "    if X.shape[1] % size != 0:\n",
    "        data_X = shuffled_X[:,num_frag*size:X.shape[1]]\n",
    "        data_Y = shuffled_Y[:,num_frag*size:X.shape[1]]\n",
    "        a = (data_X, data_Y)\n",
    "        data.append(a)\n",
    "    \n",
    "    return data"
   ]
  },
  {
   "cell_type": "code",
   "execution_count": 318,
   "metadata": {
    "collapsed": true
   },
   "outputs": [],
   "source": [
    "def cost(W,X,Y):\n",
    "    Hx = 1/(1+np.exp(-np.dot(W.T,X)))\n",
    "    cost = (np.dot(Y,np.log(Hx).T)+np.dot((1-Y),np.log(1-Hx).T))/(-X.shape[1])\n",
    "    cost = np.squeeze(cost)\n",
    "    return cost"
   ]
  },
  {
   "cell_type": "code",
   "execution_count": 319,
   "metadata": {
    "collapsed": true
   },
   "outputs": [],
   "source": [
    "def loss(W,X,Y):\n",
    "    Hx = 1/(1+np.exp(-np.dot(W.T,X)))\n",
    "    GW = np.dot(X,(Hx-Y).T)/X.shape[1]\n",
    "    return GW"
   ]
  },
  {
   "cell_type": "code",
   "execution_count": 320,
   "metadata": {
    "collapsed": true
   },
   "outputs": [],
   "source": [
    "def main(X_train, y_train, X_test, y_test, method):\n",
    "    lenrate = 0.001\n",
    "    n = 100\n",
    "    validCost = []\n",
    "    W = np.zeros((X_train.shape[0],1))\n",
    "    vW = 0\n",
    "    vb = 0\n",
    "    r = 0.9\n",
    "    decay_rate = 0.9\n",
    "    cache = 0\n",
    "    eps = 1e-8\n",
    "    m = 0\n",
    "    v = 0\n",
    "    beta1 = 0.9\n",
    "    beta2 = 0.999\n",
    "    rA = 0.95\n",
    "    diffdireW = 0\n",
    "    direW = 0\n",
    "    gW = 0\n",
    "    for i in range(n):\n",
    "        datas = selectData(X_train, y_train, 1000)\n",
    "        for data in datas:\n",
    "            (X_sel, Y_sel) = data\n",
    "            GW = loss(W,X_sel,Y_sel)\n",
    "            if method is \"NAG\":\n",
    "                v_prev = vW\n",
    "                vW = r*vW-lenrate*GW\n",
    "                W += -r*v_prev+(1+r)*vW\n",
    "            elif method is \"RMSProp\":\n",
    "                cache = decay_rate * cache + (1 - decay_rate) * GW**2\n",
    "                W += - lenrate * GW / (np.sqrt(cache) + eps)\n",
    "            elif method is \"Adam\":\n",
    "                t = i + 1\n",
    "                m = beta1*m + (1-beta1)*GW\n",
    "                mt = m / (1-beta1**t)\n",
    "                v = beta2*v + (1-beta2)*(GW**2)\n",
    "                vt = v / (1-beta2**t)\n",
    "                W += - lenrate * mt / (np.sqrt(vt) + eps)\n",
    "            elif method is \"AdaDelta\":\n",
    "                gW = rA*gW+(1-rA)*GW**2\n",
    "                diffdireW = -np.sqrt(direW+eps)/np.sqrt(gW+eps)*GW\n",
    "                W += diffdireW\n",
    "                direW = rA*direW+(1-rA)*diffdireW**2\n",
    "        validcost = cost(W,X_test,y_test)\n",
    "        validCost.append(validcost)\n",
    "    return validCost"
   ]
  },
  {
   "cell_type": "code",
   "execution_count": 321,
   "metadata": {},
   "outputs": [
    {
     "data": {
      "image/png": "[encoded data removed]",
      "text/plain": [
       "<matplotlib.figure.Figure at 0xfe5ed28400>"
      ]
     },
     "metadata": {},
     "output_type": "display_data"
    }
   ],
   "source": [
    "X_train = X_train.T.toarray()\n",
    "X_test = X_test.T.toarray()\n",
    "y_train = np.reshape(y_train,(1,y_train.shape[0]))\n",
    "y_test = np.reshape(y_test,(1,y_test.shape[0]))\n",
    "y_train[y_train<0]=0\n",
    "y_test[y_test<0]=0\n",
    "n=100\n",
    "NAGvaild = main(X_train,y_train,X_test,y_test,method = 'NAG')\n",
    "RMSvaild = main(X_train,y_train,X_test,y_test,method = 'RMSProp')\n",
    "Adamvaild = main(X_train,y_train,X_test,y_test,method = 'Adam')\n",
    "AdaDeltavaild = main(X_train,y_train,X_test,y_test,method = 'AdaDelta')\n",
    "plt.figure(1)\n",
    "x = np.arange(0, n, 1)\n",
    "plt.xlabel('iteration times')\n",
    "plt.ylabel('Loss')\n",
    "plt.plot(x,NAGvaild,color=\"r\",label = \"NAG loss\")\n",
    "plt.plot(x,RMSvaild,color=\"b\",label = \"RMSProp loss\")\n",
    "plt.plot(x,Adamvaild,color=\"y\",label = \"Adam loss\")\n",
    "plt.plot(x,AdaDeltavaild,color=\"k\",label = \"AdaDelta loss\")\n",
    "plt.legend(loc='upper right')\n",
    "plt.show()\n",
    "\n"
   ]
  }
 ],
 "metadata": {
  "kernelspec": {
   "display_name": "Python 3",
   "language": "python",
   "name": "python3"
  },
  "language_info": {
   "codemirror_mode": {
    "name": "ipython",
    "version": 3
   },
   "file_extension": ".py",
   "mimetype": "text/x-python",
   "name": "python",
   "nbconvert_exporter": "python",
   "pygments_lexer": "ipython3",
   "version": "3.6.3"
  }
 },
 "nbformat": 4,
 "nbformat_minor": 2
}
