{
 "cells": [
  {
   "cell_type": "code",
   "execution_count": 15,
   "metadata": {
    "collapsed": true
   },
   "outputs": [],
   "source": [
    "# write your code here\n",
    "import numpy as np\n",
    "import matplotlib.pyplot as plt\n",
    "import math\n",
    "from sklearn.datasets import load_svmlight_file"
   ]
  },
  {
   "cell_type": "code",
   "execution_count": 16,
   "metadata": {
    "collapsed": true
   },
   "outputs": [],
   "source": [
    "def get_data(str):\n",
    "    data = load_svmlight_file(str,123)\n",
    "    return data[0], data[1]\n",
    "\n",
    "#Import data\n",
    "train = 'data\\\\a9a'\n",
    "test = 'data\\\\a9a.t'\n",
    "X_train, y_train = get_data(train)\n",
    "X_test, y_test = get_data(test)\n"
   ]
  },
  {
   "cell_type": "code",
   "execution_count": 17,
   "metadata": {
    "collapsed": true
   },
   "outputs": [],
   "source": [
    "def selectData(X,Y,size):\n",
    "    data = []\n",
    "    per = np.random.permutation(X.shape[1])\n",
    "    shuffled_X = X[:,per]\n",
    "    shuffled_Y = Y[:,per]\n",
    "    num_frag = math.floor(X.shape[1]/size)\n",
    "    for i in range(num_frag):\n",
    "        data_X = shuffled_X[:,i*size:(i+1)*size]\n",
    "        data_Y = shuffled_Y[:,i*size:(i+1)*size]\n",
    "        a = (data_X, data_Y)\n",
    "        data.append(a)\n",
    "    if X.shape[1] % size != 0:\n",
    "        data_X = shuffled_X[:,num_frag*size:X.shape[1]]\n",
    "        data_Y = shuffled_Y[:,num_frag*size:X.shape[1]]\n",
    "        a = (data_X, data_Y)\n",
    "        data.append(a)\n",
    "    \n",
    "    return data"
   ]
  },
  {
   "cell_type": "code",
   "execution_count": 18,
   "metadata": {
    "collapsed": true
   },
   "outputs": [],
   "source": [
    "def cost(W,b,X,Y):\n",
    "    C = 5\n",
    "    cost = np.sum(np.square(W))/2 + C*np.sum(np.maximum(0,1-Y*(np.dot(W.T,X)+b)))/X.shape[1]\n",
    "    return cost"
   ]
  },
  {
   "cell_type": "code",
   "execution_count": 19,
   "metadata": {
    "collapsed": true
   },
   "outputs": [],
   "source": [
    "def loss(W,b,X,Y):\n",
    "    C = 5\n",
    "    GW = np.zeros(X.shape[1])\n",
    "    Gb = 0\n",
    "    filt = (1-Y*(np.dot(W.T,X)+b))>0\n",
    "    GW = W - C*np.dot(Y*filt,X.T).T/X.shape[1]\n",
    "    Gb = -C*np.sum(Y*filt*b)/X.shape[1]\n",
    "    return GW,Gb\n"
   ]
  },
  {
   "cell_type": "code",
   "execution_count": 20,
   "metadata": {
    "collapsed": true
   },
   "outputs": [],
   "source": [
    "def main(X_train, y_train, X_test, y_test, method ,num):\n",
    "    lenrate = 0.001\n",
    "    n = 50\n",
    "    validCost = []\n",
    "    W = np.zeros((X_train.shape[0],1))\n",
    "    b = 0\n",
    "    vW = 0\n",
    "    vb = 0\n",
    "    r = 0.9\n",
    "    decay_rate = 0.99\n",
    "    cacheW = 0\n",
    "    cacheb = 0\n",
    "    eps = 1e-8\n",
    "    mW = 0\n",
    "    mb = 0\n",
    "    beta1 = 0.9\n",
    "    beta2 = 0.999\n",
    "    rA = 0.95\n",
    "    diffdireW = 0\n",
    "    direW = 0\n",
    "    diffdireb = 0\n",
    "    direb = 0\n",
    "    gW = 0\n",
    "    gb = 0\n",
    "    for i in range(n):\n",
    "        datas = selectData(X_train, y_train, num)\n",
    "        for data in datas:\n",
    "            (X_sel, Y_sel) = data\n",
    "            GW,Gb = loss(W,b,X_sel,Y_sel)\n",
    "            if method is \"NAG\":\n",
    "                v_prevW = vW\n",
    "                vW = r*vW-lenrate*GW\n",
    "                W += -r*v_prevW+(1+r)*vW\n",
    "                v_prevb = vb\n",
    "                vb = r*vb-lenrate*Gb\n",
    "                b += -r*v_prevb+(1+r)*vb\n",
    "            elif method is \"RMSProp\":\n",
    "                cacheW = decay_rate * cacheW + (1 - decay_rate) * GW**2\n",
    "                W += - lenrate * GW / (np.sqrt(cacheW) + eps)\n",
    "                cacheb = decay_rate * cacheb + (1 - decay_rate) * Gb**2\n",
    "                b += - lenrate * Gb / (np.sqrt(cacheb) + eps)\n",
    "            elif method is \"Adam\":\n",
    "                t = i + 1\n",
    "                mW = beta1*mW + (1-beta1)*GW\n",
    "                mtW = mW / (1-beta1**t)\n",
    "                vW = beta2*vW + (1-beta2)*(GW**2)\n",
    "                vtW = vW / (1-beta2**t)\n",
    "                W += - lenrate * mtW / (np.sqrt(vtW) + eps)\n",
    "                mb = beta1*mb + (1-beta1)*Gb\n",
    "                mtb = mb / (1-beta1**t)\n",
    "                vb = beta2*vb + (1-beta2)*(Gb**2)\n",
    "                vtb = vb / (1-beta2**t)\n",
    "                b += - lenrate * mtb / (np.sqrt(vtb) + eps)\n",
    "            elif method is \"AdaDelta\":\n",
    "                gW = rA*gW+(1-rA)*GW**2\n",
    "                diffdireW = -np.sqrt(direW+eps)/np.sqrt(gW+eps)*GW\n",
    "                W += diffdireW\n",
    "                direW = rA*direW+(1-rA)*diffdireW**2\n",
    "                gb = rA*gb+(1-rA)*Gb**2\n",
    "                diffdireb = -np.sqrt(direb+eps)/np.sqrt(gb+eps)*Gb\n",
    "                b += diffdireb\n",
    "                direb = rA*direb+(1-rA)*diffdireb**2\n",
    "        validcost = cost(W,b,X_test,y_test)\n",
    "        validCost.append(validcost)\n",
    "    return validCost"
   ]
  },
  {
   "cell_type": "code",
   "execution_count": 21,
   "metadata": {},
   "outputs": [
    {
     "data": {
      "image/png": "[encoded data removed]",
      "text/plain": [
       "<matplotlib.figure.Figure at 0x1468b17128>"
      ]
     },
     "metadata": {},
     "output_type": "display_data"
    }
   ],
   "source": [
    "X_train = X_train.T.toarray()\n",
    "X_test = X_test.T.toarray()\n",
    "y_train = np.reshape(y_train,(1,y_train.shape[0]))\n",
    "y_test = np.reshape(y_test,(1,y_test.shape[0]))\n",
    "y_train[y_train<0]=0\n",
    "y_test[y_test<0]=0\n",
    "n=50\n",
    "NAGvaild = main(X_train,y_train,X_test,y_test,method = 'NAG',num = 800)\n",
    "RMSvaild = main(X_train,y_train,X_test,y_test,method = 'RMSProp',num = 1500)\n",
    "Adamvaild = main(X_train,y_train,X_test,y_test,method = 'Adam',num = 800)\n",
    "AdaDeltavaild = main(X_train,y_train,X_test,y_test,method = 'AdaDelta',num = 200)\n",
    "plt.figure(1)\n",
    "x = np.arange(0, n, 1)\n",
    "plt.xlabel('Iteration Times')\n",
    "plt.ylabel('Loss')\n",
    "plt.plot(x,NAGvaild,color=\"r\",label = \"NAG loss\")\n",
    "plt.plot(x,RMSvaild,color=\"b\",label = \"RMSProp loss\")\n",
    "plt.plot(x,Adamvaild,color=\"y\",label = \"Adam loss\")\n",
    "plt.plot(x,AdaDeltavaild,color=\"k\",label = \"AdaDelta loss\")\n",
    "plt.legend(loc='upper right')\n",
    "plt.show()\n"
   ]
  }
 ],
 "metadata": {
  "kernelspec": {
   "display_name": "Python 3",
   "language": "python",
   "name": "python3"
  },
  "language_info": {
   "codemirror_mode": {
    "name": "ipython",
    "version": 3
   },
   "file_extension": ".py",
   "mimetype": "text/x-python",
   "name": "python",
   "nbconvert_exporter": "python",
   "pygments_lexer": "ipython3",
   "version": "3.6.3"
  }
 },
 "nbformat": 4,
 "nbformat_minor": 2
}
